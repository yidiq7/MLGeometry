{
 "cells": [
  {
   "cell_type": "code",
   "execution_count": 16,
   "metadata": {},
   "outputs": [],
   "source": [
    "import sympy as sp\n",
    "import tensorflow as tf\n",
    "import numpy as np\n",
    "import MLGeometry as mlg\n",
    "from MLGeometry import bihomoNN as bnn\n",
    "import cmath"
   ]
  },
  {
   "cell_type": "code",
   "execution_count": 2,
   "metadata": {},
   "outputs": [],
   "source": [
    "np.random.seed(42)\n",
    "tf.random.set_seed(42)"
   ]
  },
  {
   "cell_type": "code",
   "execution_count": 3,
   "metadata": {},
   "outputs": [],
   "source": [
    "z0, z1, z2, z3, z4 = sp.symbols('z0, z1, z2, z3, z4')\n",
    "Z = [z0,z1,z2,z3,z4]\n",
    "f = z0**5 + z1**5 + z2**5 + z3**5 + z4**5 + 0.5*z0*z1*z2*z3*z4"
   ]
  },
  {
   "cell_type": "code",
   "execution_count": 6,
   "metadata": {},
   "outputs": [],
   "source": [
    "load_path = 'training/f0_psi0.5/300_300_300_1'\n",
    "model = tf.keras.models.load_model(load_path, compile=False)"
   ]
  },
  {
   "cell_type": "code",
   "execution_count": 54,
   "metadata": {},
   "outputs": [],
   "source": [
    "points_list = []\n",
    "# The Bihomogeneous layer will remove the zero entries automatically.\n",
    "# So here we add a small number eps to avoid being removed\n",
    "eps = 0.0000001 + 0.0000001j\n",
    "\n",
    "for k in range(100):\n",
    "    point_z3 = cmath.exp(np.pi*k*2j/100)\n",
    "    point_z4 = (1-point_z3**5)**(1/5)   # abs > 1, do we need this?\n",
    "    points_list.append([1, 0+eps, 0+eps, point_z3, point_z4])   "
   ]
  },
  {
   "cell_type": "code",
   "execution_count": 55,
   "metadata": {},
   "outputs": [],
   "source": [
    "curve = mlg.hypersurface.Hypersurface(Z, f, points=points_list, norm_coordinate=0, max_grad_coordinate=3)\n",
    "curve_dataset = mlg.tf_dataset.generate_dataset(curve).batch(curve.n_points)"
   ]
  },
  {
   "cell_type": "code",
   "execution_count": 56,
   "metadata": {},
   "outputs": [],
   "source": [
    "@tf.function\n",
    "def cy_metric(points, Omega_Omegabar, mass, restriction):\n",
    "    \n",
    "    cy_metric = mlg.complex_math.complex_hessian(tf.math.real(model(points)), points)\n",
    "    cy_metric_restricted = tf.matmul(restriction, tf.matmul(cy_metric, restriction, adjoint_b=True))\n",
    "    \n",
    "    return cy_metric_restricted"
   ]
  },
  {
   "cell_type": "code",
   "execution_count": 57,
   "metadata": {},
   "outputs": [],
   "source": [
    "points, Omega_Omegabar, mass, restriction = next(iter(train_set))"
   ]
  },
  {
   "cell_type": "code",
   "execution_count": 62,
   "metadata": {},
   "outputs": [
    {
     "data": {
      "text/plain": [
       "<tf.Tensor: shape=(3, 3), dtype=complex64, numpy=\n",
       "array([[5.042442  -2.9802322e-07j, 0.25671625-1.9524626e+00j,\n",
       "        0.0086575 -2.5479442e-01j],\n",
       "       [0.2567169 +1.9524620e+00j, 5.329566  -6.5565109e-07j,\n",
       "        0.2652911 -6.7085549e-03j],\n",
       "       [0.00865772+2.5479445e-01j, 0.26529115+6.7082047e-03j,\n",
       "        1.9280792 -6.7055225e-08j]], dtype=complex64)>"
      ]
     },
     "execution_count": 62,
     "metadata": {},
     "output_type": "execute_result"
    }
   ],
   "source": [
    "cy_metric(points, Omega_Omegabar, mass, restriction)[5]"
   ]
  },
  {
   "cell_type": "code",
   "execution_count": null,
   "metadata": {},
   "outputs": [],
   "source": []
  }
 ],
 "metadata": {
  "kernelspec": {
   "display_name": "Python 3",
   "language": "python",
   "name": "python3"
  },
  "language_info": {
   "codemirror_mode": {
    "name": "ipython",
    "version": 3
   },
   "file_extension": ".py",
   "mimetype": "text/x-python",
   "name": "python",
   "nbconvert_exporter": "python",
   "pygments_lexer": "ipython3",
   "version": "3.7.3"
  }
 },
 "nbformat": 4,
 "nbformat_minor": 4
}
