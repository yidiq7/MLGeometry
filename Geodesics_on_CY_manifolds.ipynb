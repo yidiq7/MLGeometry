{
 "cells": [
  {
   "cell_type": "code",
   "execution_count": 1,
   "metadata": {},
   "outputs": [],
   "source": [
    "import sympy as sp\n",
    "import tensorflow as tf\n",
    "import numpy as np\n",
    "import MLGeometry as mlg\n",
    "from MLGeometry import bihomoNN as bnn\n",
    "import cmath"
   ]
  },
  {
   "cell_type": "code",
   "execution_count": 2,
   "metadata": {},
   "outputs": [],
   "source": [
    "np.random.seed(42)\n",
    "tf.random.set_seed(42)"
   ]
  },
  {
   "cell_type": "code",
   "execution_count": 3,
   "metadata": {},
   "outputs": [],
   "source": [
    "z0, z1, z2, z3, z4 = sp.symbols('z0, z1, z2, z3, z4')\n",
    "Z = [z0,z1,z2,z3,z4]\n",
    "f = z0**5 + z1**5 + z2**5 + z3**5 + z4**5 + 0.5*z0*z1*z2*z3*z4"
   ]
  },
  {
   "cell_type": "code",
   "execution_count": 4,
   "metadata": {},
   "outputs": [],
   "source": [
    "load_path = 'training/f0_psi0.5/300_300_300_1'\n",
    "model = tf.keras.models.load_model(load_path, compile=False)"
   ]
  },
  {
   "cell_type": "code",
   "execution_count": 5,
   "metadata": {},
   "outputs": [],
   "source": [
    "points_list = []\n",
    "n_points = 10000\n",
    "\n",
    "# The Bihomogeneous layer will remove the zero entries automatically.\n",
    "# So here we add two small numbers on 0s to avoid being removed\n",
    "# TODO: Just need one extra point\n",
    "eps1 = 0.001 + 0.001j\n",
    "eps2 = 0.001 - 0.002j\n",
    "\n",
    "for k in range(n_points):\n",
    "    point_z3 = cmath.exp(np.pi*k*2j/n_points)\n",
    "    point_z4 = (-1-point_z3**5)**(1/5)\n",
    "    #points_list.append([1+eps1, 0+eps1, 0+eps2, point_z3+eps1, point_z4+eps1])\n",
    "    points_list.append([1, 0, 0, point_z3, point_z4])\n",
    "    \n",
    "points_list.append(np.random.random(5) + np.random.random(5) * 1j)"
   ]
  },
  {
   "cell_type": "code",
   "execution_count": 6,
   "metadata": {},
   "outputs": [],
   "source": [
    "curve = mlg.hypersurface.Hypersurface(Z, f, points=points_list, norm_coordinate=0, max_grad_coordinate=3)\n",
    "curve_dataset = mlg.tf_dataset.generate_dataset(curve).batch(curve.n_points)"
   ]
  },
  {
   "cell_type": "code",
   "execution_count": 7,
   "metadata": {},
   "outputs": [],
   "source": [
    "@tf.function\n",
    "def cy_metric(points, restriction):\n",
    "    \n",
    "    cy_metric = mlg.complex_math.complex_hessian(tf.math.real(model(points)), points)\n",
    "    cy_metric_restricted = tf.matmul(restriction, tf.matmul(cy_metric, restriction, adjoint_b=True))\n",
    "    \n",
    "    return cy_metric_restricted"
   ]
  },
  {
   "cell_type": "code",
   "execution_count": 8,
   "metadata": {},
   "outputs": [],
   "source": [
    "points, Omega_Omegabar, mass, restriction = next(iter(curve_dataset))"
   ]
  },
  {
   "cell_type": "code",
   "execution_count": 9,
   "metadata": {
    "scrolled": true
   },
   "outputs": [
    {
     "name": "stderr",
     "output_type": "stream",
     "text": [
      "/home/spencer/anaconda3/lib/python3.7/site-packages/tensorflow/python/framework/indexed_slices.py:432: UserWarning: Converting sparse IndexedSlices to a dense Tensor of unknown shape. This may consume a large amount of memory.\n",
      "  \"Converting sparse IndexedSlices to a dense Tensor of unknown shape. \"\n"
     ]
    }
   ],
   "source": [
    "metric = cy_metric(points, restriction)"
   ]
  },
  {
   "cell_type": "code",
   "execution_count": 39,
   "metadata": {},
   "outputs": [],
   "source": [
    "tan_vectors = tf.math.subtract(points, tf.gather(points, list(range(-1, n_points))))"
   ]
  },
  {
   "cell_type": "code",
   "execution_count": 40,
   "metadata": {},
   "outputs": [],
   "source": [
    "points_rs = tf.reshape(tan_vectors, [n_points+1, 1, 5])\n",
    "points_cy = tf.gather(points_rs, [1,2,3], axis=2)"
   ]
  },
  {
   "cell_type": "code",
   "execution_count": 41,
   "metadata": {},
   "outputs": [
    {
     "data": {
      "text/plain": [
       "<tf.Tensor: shape=(), dtype=complex64, numpy=(1.7324973e+19-165362530000j)>"
      ]
     },
     "execution_count": 41,
     "metadata": {},
     "output_type": "execute_result"
    }
   ],
   "source": [
    "tf.reduce_sum(tf.matmul(points_cy, tf.matmul(metric, points_cy, adjoint_b=True)))"
   ]
  },
  {
   "cell_type": "code",
   "execution_count": 15,
   "metadata": {},
   "outputs": [
    {
     "data": {
      "text/plain": [
       "<tf.Tensor: shape=(10000, 1, 3), dtype=complex64, numpy=\n",
       "array([[[1.0000000e-03+0.001j     , 1.0000000e-03-0.002j     ,\n",
       "         1.0010000e+00+0.001j     ]],\n",
       "\n",
       "       [[1.0000000e-03+0.001j     , 1.0000000e-03-0.002j     ,\n",
       "         1.0009998e+00+0.00162832j]],\n",
       "\n",
       "       [[1.0000000e-03+0.001j     , 1.0000000e-03-0.002j     ,\n",
       "         1.0009992e+00+0.00225664j]],\n",
       "\n",
       "       ...,\n",
       "\n",
       "       [[1.0000000e-03+0.001j     , 1.0000000e-03-0.002j     ,\n",
       "         1.0009983e+00-0.00088495j]],\n",
       "\n",
       "       [[1.0000000e-03+0.001j     , 1.0000000e-03-0.002j     ,\n",
       "         1.0009992e+00-0.00025664j]],\n",
       "\n",
       "       [[1.0000000e-03+0.001j     , 1.0000000e-03-0.002j     ,\n",
       "         1.0009998e+00+0.00037168j]]], dtype=complex64)>"
      ]
     },
     "execution_count": 15,
     "metadata": {},
     "output_type": "execute_result"
    }
   ],
   "source": [
    "points_cy"
   ]
  },
  {
   "cell_type": "code",
   "execution_count": 16,
   "metadata": {},
   "outputs": [
    {
     "data": {
      "text/plain": [
       "<tf.Tensor: shape=(10000, 1, 3), dtype=complex64, numpy=\n",
       "array([[[1.0000000e-03+0.001j     , 1.0000000e-03-0.002j     ,\n",
       "         1.0010000e+00+0.001j     ]],\n",
       "\n",
       "       [[1.0000000e-03+0.001j     , 1.0000000e-03-0.002j     ,\n",
       "         1.0009998e+00+0.00162832j]],\n",
       "\n",
       "       [[1.0000000e-03+0.001j     , 1.0000000e-03-0.002j     ,\n",
       "         1.0009992e+00+0.00225664j]],\n",
       "\n",
       "       ...,\n",
       "\n",
       "       [[1.0000000e-03+0.001j     , 1.0000000e-03-0.002j     ,\n",
       "         1.0009983e+00-0.00088495j]],\n",
       "\n",
       "       [[1.0000000e-03+0.001j     , 1.0000000e-03-0.002j     ,\n",
       "         1.0009992e+00-0.00025664j]],\n",
       "\n",
       "       [[1.0000000e-03+0.001j     , 1.0000000e-03-0.002j     ,\n",
       "         1.0009998e+00+0.00037168j]]], dtype=complex64)>"
      ]
     },
     "execution_count": 16,
     "metadata": {},
     "output_type": "execute_result"
    }
   ],
   "source": [
    "tf.reshape(points_cy, [10000,1,3])"
   ]
  },
  {
   "cell_type": "code",
   "execution_count": 19,
   "metadata": {},
   "outputs": [],
   "source": [
    "@tf.function\n",
    "def cy_metric_unrestricted(points):\n",
    "    \n",
    "    cy_metric = mlg.complex_math.complex_hessian(tf.math.real(model(points)), points)\n",
    "    \n",
    "    return cy_metric"
   ]
  },
  {
   "cell_type": "code",
   "execution_count": 29,
   "metadata": {},
   "outputs": [],
   "source": [
    "metric_unrestricted =  cy_metric_unrestricted(points)\n",
    "metric_unrestricted = tf.gather(metric_unrestricted, [1,2,3,4], axis = 2)\n",
    "metric_unrestricted = tf.gather(metric_unrestricted, [1,2,3,4], axis = 1)"
   ]
  },
  {
   "cell_type": "code",
   "execution_count": 35,
   "metadata": {},
   "outputs": [],
   "source": [
    "points_rs = tf.reshape(points, [n_points, 1, 5])\n",
    "points_cy = tf.gather(points_rs, [1,2,3,4], axis=2)"
   ]
  },
  {
   "cell_type": "code",
   "execution_count": 36,
   "metadata": {},
   "outputs": [
    {
     "data": {
      "text/plain": [
       "<tf.Tensor: shape=(), dtype=complex64, numpy=(26230.387-0.00022805369j)>"
      ]
     },
     "execution_count": 36,
     "metadata": {},
     "output_type": "execute_result"
    }
   ],
   "source": [
    "tf.reduce_sum(tf.matmul(points_cy, tf.matmul(metric_unrestricted, points_cy, adjoint_b=True)))"
   ]
  },
  {
   "cell_type": "code",
   "execution_count": 28,
   "metadata": {},
   "outputs": [
    {
     "data": {
      "text/plain": [
       "<tf.Tensor: shape=(10000, 4, 4), dtype=complex64, numpy=\n",
       "array([[[ 1.4972243e+00+9.3714334e-09j,  1.0850620e-03-5.2429037e-05j,\n",
       "          7.7720458e-04+1.3473514e-04j, -1.2219124e-03+3.0092523e-04j],\n",
       "        [ 1.0850704e-03+5.2419258e-05j,  1.4985728e+00-3.3178367e-09j,\n",
       "         -9.1739616e-04-1.3233959e-03j,  1.3878790e-04-1.2980489e-03j],\n",
       "        [ 7.7717681e-04-1.3472559e-04j, -9.1740314e-04+1.3233874e-03j,\n",
       "          2.3935678e+00+1.3387762e-09j, -1.0579559e+00-7.6798868e-01j],\n",
       "        [-1.2219211e-03-3.0087959e-04j,  1.3882248e-04+1.2980092e-03j,\n",
       "         -1.0579575e+00+7.6798862e-01j,  2.2766221e+00-1.0579824e-06j]],\n",
       "\n",
       "       [[ 1.4989336e+00+9.4878487e-09j,  7.5341202e-04-2.6454846e-04j,\n",
       "          5.9553853e-04+2.5654014e-04j,  2.3441756e-04+1.6943621e-03j],\n",
       "        [ 7.5340876e-04+2.6454171e-04j,  1.4999313e+00-4.0745363e-10j,\n",
       "         -8.3577400e-04-1.0011492e-03j, -1.1746248e-03-7.7784358e-04j],\n",
       "        [ 5.9553469e-04-2.5654514e-04j, -8.3578995e-04+1.0011698e-03j,\n",
       "          2.3978660e+00+2.7474016e-08j, -1.0593414e+00+7.6904655e-01j],\n",
       "        [ 2.3437972e-04-1.6943808e-03j, -1.1746504e-03+7.7785412e-04j,\n",
       "         -1.0593417e+00-7.6904786e-01j,  2.2817578e+00-8.9406967e-07j]],\n",
       "\n",
       "       [[ 1.4989343e+00+3.3760443e-09j,  7.5337710e-04-2.6423566e-04j,\n",
       "          5.9475482e-04+2.5659893e-04j,  2.3386348e-04+1.6942180e-03j],\n",
       "        [ 7.5338106e-04+2.6422343e-04j,  1.4999312e+00+9.1968104e-09j,\n",
       "         -8.3533046e-04-1.0020654e-03j, -1.1740862e-03-7.7814865e-04j],\n",
       "        [ 5.9473712e-04-2.5655818e-04j, -8.3531905e-04+1.0020980e-03j,\n",
       "          2.3978658e+00-1.3387762e-08j, -1.0591022e+00+7.6938003e-01j],\n",
       "        [ 2.3387920e-04-1.6942045e-03j, -1.1740740e-03+7.7818497e-04j,\n",
       "         -1.0591024e+00-7.6937938e-01j,  2.2817578e+00+9.2387199e-07j]],\n",
       "\n",
       "       ...,\n",
       "\n",
       "       [[ 1.4972262e+00-3.5506673e-09j,  1.0844353e-03-5.3021591e-05j,\n",
       "          7.7880407e-04+1.3670512e-04j, -1.2220043e-03+3.0079356e-04j],\n",
       "        [ 1.0844311e-03+5.3023221e-05j,  1.4985774e+00+1.7462298e-10j,\n",
       "         -9.2075649e-04-1.3235491e-03j,  1.3758347e-04-1.2971098e-03j],\n",
       "        [ 7.7882642e-04-1.3673492e-04j, -9.2075404e-04+1.3235504e-03j,\n",
       "          2.3935733e+00+4.1327439e-09j, -1.0572286e+00-7.6898247e-01j],\n",
       "        [-1.2219880e-03-3.0076806e-04j,  1.3760896e-04+1.2971215e-03j,\n",
       "         -1.0572292e+00+7.6898223e-01j,  2.2766306e+00-1.1622906e-06j]],\n",
       "\n",
       "       [[ 1.4972260e+00+5.9371814e-09j,  1.0846485e-03-5.2841497e-05j,\n",
       "          7.7825866e-04+1.3600593e-04j, -1.2220261e-03+3.0085864e-04j],\n",
       "        [ 1.0846590e-03+5.2837422e-05j,  1.4985762e+00+2.7939677e-09j,\n",
       "         -9.1965380e-04-1.3235046e-03j,  1.3798580e-04-1.2974263e-03j],\n",
       "        [ 7.7824667e-04-1.3604760e-04j, -9.1963122e-04+1.3235144e-03j,\n",
       "          2.3935711e+00+1.7345883e-08j, -1.0574715e+00-7.6865178e-01j],\n",
       "        [-1.2220420e-03-3.0086213e-04j,  1.3798894e-04+1.2974136e-03j,\n",
       "         -1.0574726e+00+7.6865149e-01j,  2.2766275e+00-1.0430813e-06j]],\n",
       "\n",
       "       [[ 1.4972243e+00+2.1536835e-09j,  1.0848264e-03-5.2610063e-05j,\n",
       "          7.7777414e-04+1.3537612e-04j, -1.2219526e-03+3.0091614e-04j],\n",
       "        [ 1.0848239e-03+5.2611344e-05j,  1.4985743e+00+4.0745363e-10j,\n",
       "         -9.1856782e-04-1.3234620e-03j,  1.3834948e-04-1.2977303e-03j],\n",
       "        [ 7.7776168e-04-1.3540080e-04j, -9.1852888e-04+1.3234520e-03j,\n",
       "          2.3935709e+00+1.8859282e-08j, -1.0577120e+00-7.6831901e-01j],\n",
       "        [-1.2219553e-03-3.0090474e-04j,  1.3838848e-04+1.2977498e-03j,\n",
       "         -1.0577139e+00+7.6831943e-01j,  2.2766232e+00-1.0132790e-06j]]],\n",
       "      dtype=complex64)>"
      ]
     },
     "execution_count": 28,
     "metadata": {},
     "output_type": "execute_result"
    }
   ],
   "source": [
    "metric_unrestricted"
   ]
  },
  {
   "cell_type": "code",
   "execution_count": null,
   "metadata": {},
   "outputs": [],
   "source": []
  }
 ],
 "metadata": {
  "kernelspec": {
   "display_name": "Python 3",
   "language": "python",
   "name": "python3"
  },
  "language_info": {
   "codemirror_mode": {
    "name": "ipython",
    "version": 3
   },
   "file_extension": ".py",
   "mimetype": "text/x-python",
   "name": "python",
   "nbconvert_exporter": "python",
   "pygments_lexer": "ipython3",
   "version": "3.7.3"
  }
 },
 "nbformat": 4,
 "nbformat_minor": 4
}
