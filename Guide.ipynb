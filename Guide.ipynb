{
  "cells": [
    {
      "cell_type": "markdown",
      "metadata": {
        "id": "2FIm6mUYtGC5"
      },
      "source": [
        "# MLGeometry guide"
      ]
    },
    {
      "cell_type": "markdown",
      "metadata": {
        "id": "dCemOECptGC6"
      },
      "source": [
        "This introduction demonstrates how to use MLGeometry to:\n",
        "1. Generate a hypersurface.\n",
        "2. Build a bihomogeneous neural network.\n",
        "3. Use the model to compute numerical Calabi-Yau metrics with the embedding method.\n",
        "4. Plot $\\eta$ on a rational curve."
      ]
    },
    {
      "cell_type": "markdown",
      "source": [
        "## Install the package (on Colab)"
      ],
      "metadata": {
        "id": "ilHaPYnkEi-S"
      }
    },
    {
      "cell_type": "code",
      "source": [
        "!pip install MLGeometry-tf"
      ],
      "metadata": {
        "id": "5pVEmL9vErvY"
      },
      "execution_count": null,
      "outputs": []
    },
    {
      "cell_type": "markdown",
      "metadata": {
        "id": "VyFvWKNmtGC7"
      },
      "source": [
        "## Configure imports"
      ]
    },
    {
      "cell_type": "markdown",
      "metadata": {
        "id": "lhqc2oMWtGC8"
      },
      "source": [
        "Import tensorflow_probability to use the L-BFGS optimizer:"
      ]
    },
    {
      "cell_type": "code",
      "execution_count": null,
      "metadata": {
        "id": "doBhWopntGC9"
      },
      "outputs": [],
      "source": [
        "import sympy as sp\n",
        "import tensorflow as tf\n",
        "import tensorflow_probability as tfp\n",
        "import keras"
      ]
    },
    {
      "cell_type": "code",
      "execution_count": null,
      "metadata": {
        "id": "MJJvGaCNtGC-"
      },
      "outputs": [],
      "source": [
        "import MLGeometry as mlg\n",
        "from MLGeometry import bihomoNN as bnn"
      ]
    },
    {
      "cell_type": "markdown",
      "metadata": {
        "id": "-9F3AKqPtGC_"
      },
      "source": [
        "Import the libraries to plot the $\\eta$ on the rational curve (see the last section):"
      ]
    },
    {
      "cell_type": "code",
      "execution_count": null,
      "metadata": {
        "id": "J9LWSTH3tGC_"
      },
      "outputs": [],
      "source": [
        "import os\n",
        "os.environ['TF_CPP_MIN_LOG_LEVEL'] = '2'\n",
        "import math\n",
        "import numpy as np\n",
        "import matplotlib.pyplot as plt\n",
        "from mpl_toolkits.mplot3d import Axes3D"
      ]
    },
    {
      "cell_type": "markdown",
      "metadata": {
        "id": "pd1zG07TtGDA"
      },
      "source": [
        "## Set a random seed (optional)\n",
        "Some random seed might be bad for numerical calulations. If there are any errors during the training, you may want to try a different seed."
      ]
    },
    {
      "cell_type": "code",
      "execution_count": null,
      "metadata": {
        "id": "x5Rz0lXmtGDB"
      },
      "outputs": [],
      "source": [
        "np.random.seed(42)\n",
        "tf.random.set_seed(42)"
      ]
    },
    {
      "cell_type": "markdown",
      "metadata": {
        "id": "QjB84Ln1tGDB"
      },
      "source": [
        "## Define a hypersurface\n",
        "First define a set of coordinates and a function as sympy symbols:"
      ]
    },
    {
      "cell_type": "code",
      "execution_count": null,
      "metadata": {
        "id": "pwhQynDBtGDB"
      },
      "outputs": [],
      "source": [
        "z0, z1, z2, z3, z4 = sp.symbols('z0, z1, z2, z3, z4')\n",
        "Z = [z0,z1,z2,z3,z4]\n",
        "f = z0**5 + z1**5 + z2**5 + z3**5 + z4**5 + 0.5*z0*z1*z2*z3*z4"
      ]
    },
    {
      "cell_type": "markdown",
      "metadata": {
        "id": "wTm215kftGDC"
      },
      "source": [
        "Then define a hypersurface as a collection of points which solve the equation f = 0, using the `Hypersurface` class in the `mlg.hypersurface` module. The parameter n_pairs is the number of random pairs of points used to form the random lines in $\\mathbf{CP}^{N+1}$. Then we take the intersections of those random lines and the hypersurface. By Bezout's theorem, each line intersects the hypersurface in precisely d points where d is the number of homogeneous coordinates. So the total number of points is d * n_pairs."
      ]
    },
    {
      "cell_type": "code",
      "execution_count": null,
      "metadata": {
        "id": "jz1Vi4Y2tGDC"
      },
      "outputs": [],
      "source": [
        "n_pairs = 10000\n",
        "HS_train = mlg.hypersurface.Hypersurface(Z, f, n_pairs)\n",
        "HS_test = mlg.hypersurface.Hypersurface(Z, f, n_pairs)"
      ]
    },
    {
      "cell_type": "markdown",
      "metadata": {
        "id": "YE981r2ctGDC"
      },
      "source": [
        "The Hypersurface class will take care of the patchwork automatically. Let's use the `list_patches` function to check the number of points on each patch:"
      ]
    },
    {
      "cell_type": "code",
      "execution_count": null,
      "metadata": {
        "id": "_zyw84dftGDC",
        "outputId": "e8fb2f30-eadf-4129-80c6-33971a79b273",
        "colab": {
          "base_uri": "https://localhost:8080/"
        }
      },
      "outputs": [
        {
          "output_type": "stream",
          "name": "stdout",
          "text": [
            "Number of Patches: 5\n",
            "Points on patch 1 : 9933\n",
            "Points on patch 2 : 10015\n",
            "Points on patch 3 : 10249\n",
            "Points on patch 4 : 10011\n",
            "Points on patch 5 : 9792\n"
          ]
        }
      ],
      "source": [
        "HS_train.list_patches()"
      ]
    },
    {
      "cell_type": "markdown",
      "metadata": {
        "id": "4JtfwpmFtGDD"
      },
      "source": [
        "You can also invoke this method on one of the patches to check the distribution on the subpatches:"
      ]
    },
    {
      "cell_type": "code",
      "execution_count": null,
      "metadata": {
        "id": "8fMZAyKutGDD",
        "outputId": "5b432e0a-36e6-4ac5-9dda-4c9447aa656a",
        "colab": {
          "base_uri": "https://localhost:8080/"
        }
      },
      "outputs": [
        {
          "output_type": "stream",
          "name": "stdout",
          "text": [
            "Number of Patches: 4\n",
            "Points on patch 1 : 2474\n",
            "Points on patch 2 : 2468\n",
            "Points on patch 3 : 2547\n",
            "Points on patch 4 : 2444\n"
          ]
        }
      ],
      "source": [
        "HS_train.patches[0].list_patches()"
      ]
    },
    {
      "cell_type": "markdown",
      "metadata": {
        "id": "h8p5D9ZWtGDE"
      },
      "source": [
        "The Hypersurface class contains some symbolic and numerical methods as well, which will be introduced elsewhere."
      ]
    },
    {
      "cell_type": "markdown",
      "metadata": {
        "id": "4u1oIOLytGDE"
      },
      "source": [
        "## Training with Tensorflow\n",
        "The following steps are similar to a regular Tensorflow training process.\n",
        "### Generate datasets\n",
        "The `mlg.tf_dataset.generate_dataset` function converts a hypersurface to a Tensorflow Dataset, which has four componets: the points on the hypersurface, the volume form $\\small \\Omega \\wedge \\bar\\Omega$, the mass reweighting the points distribution and the restriction which restricts the Kähler metric to a subpatch. The restriction contains an extra linear transformation so that points on different affine patches can all be processed in one call. It is also possible to generate a dataset only on one affine patch."
      ]
    },
    {
      "cell_type": "code",
      "execution_count": null,
      "metadata": {
        "id": "uGq-mKdDtGDE"
      },
      "outputs": [],
      "source": [
        "train_set = mlg.tf_dataset.generate_dataset(HS_train)\n",
        "test_set = mlg.tf_dataset.generate_dataset(HS_test)"
      ]
    },
    {
      "cell_type": "markdown",
      "metadata": {
        "id": "MHP3ExA1tGDG"
      },
      "source": [
        "Shuffle and batch the datasets:"
      ]
    },
    {
      "cell_type": "code",
      "execution_count": null,
      "metadata": {
        "id": "G1AX_cm_tGDG"
      },
      "outputs": [],
      "source": [
        "train_set = train_set.shuffle(HS_train.n_points).batch(1000)\n",
        "test_set = test_set.shuffle(HS_test.n_points).batch(1000)"
      ]
    },
    {
      "cell_type": "markdown",
      "metadata": {
        "id": "t7Mga5fdtGDG"
      },
      "source": [
        "Let's look at what is inside a dataset:"
      ]
    },
    {
      "cell_type": "code",
      "execution_count": null,
      "metadata": {
        "scrolled": true,
        "id": "kwHPcIFHtGDH",
        "outputId": "4e35f5b8-52d9-470a-caeb-9310229ee77a",
        "colab": {
          "base_uri": "https://localhost:8080/"
        }
      },
      "outputs": [
        {
          "output_type": "stream",
          "name": "stdout",
          "text": [
            "tf.Tensor(\n",
            "[[-0.28939024-0.7013853j   0.36498785+0.31731284j  1.        -0.j\n",
            "  -0.83973217-0.04013346j  0.69238067-0.44357434j]\n",
            " [-0.2632903 +0.00763338j  1.        +0.j         -0.3904083 -0.03917403j\n",
            "  -0.07155564+0.36113203j  0.80278397+0.58611786j]\n",
            " [-0.9368906 +0.12442758j  0.21154833+0.6303546j  -0.3895686 +0.4952412j\n",
            "  -0.22148535-0.86754274j  1.        -0.j        ]\n",
            " ...\n",
            " [-0.3757828 -0.8230363j  -0.176058  +0.23105958j -0.36762843+0.82377625j\n",
            "  -0.28792354-0.0678029j   1.        -0.j        ]\n",
            " [ 0.38600475+0.27455673j  0.80249757+0.5882626j   1.        +0.j\n",
            "  -0.0039644 +0.08065715j -0.46647677+0.11512545j]\n",
            " [ 0.8101118 -0.5754197j   1.        +0.j         -0.13839988-0.06433091j\n",
            "  -0.17594224+0.5278059j  -0.47444513+0.20035468j]], shape=(1000, 5), dtype=complex64)\n"
          ]
        }
      ],
      "source": [
        "points, Omega_Omegabar, mass, restriction = next(iter(train_set))\n",
        "print(points)"
      ]
    },
    {
      "cell_type": "markdown",
      "metadata": {
        "id": "2kVSGnnktGDH"
      },
      "source": [
        "### Build a bihomogeneous neural network"
      ]
    },
    {
      "cell_type": "markdown",
      "metadata": {
        "id": "XV_JRrERtGDI"
      },
      "source": [
        "The `mlg.bihomoNN` module provides the necessary layers (e.g. `Bihomogeneous` and `Dense` ) to construct the Kähler potential with a bihomogeneous neural network. Here is an example of a two-hidden-layer network (k = 4) with 70 and 100 hidden units:"
      ]
    },
    {
      "cell_type": "code",
      "execution_count": null,
      "metadata": {
        "id": "B9mE_YLltGDI"
      },
      "outputs": [],
      "source": [
        "@keras.saving.register_keras_serializable(package=\"MLGeometry\")\n",
        "class Kahler_potential(tf.keras.Model):\n",
        "    def __init__(self, trainable=True, dtype='float32', **kwargs):\n",
        "        super(Kahler_potential, self).__init__(trainable=trainable, dtype=dtype, **kwargs)\n",
        "        # The first layer transforms the complex points to the bihomogeneous form.\n",
        "        # The number of the outputs is d^2, where d is the number of coordinates.\n",
        "        self.bihomogeneous = bnn.Bihomogeneous(d=len(Z))\n",
        "        self.layer1 = bnn.SquareDense(5**2, 70, activation=tf.square)\n",
        "        self.layer2 = bnn.SquareDense(70, 100, activation=tf.square)\n",
        "        self.layer3 = bnn.SquareDense(100, 1)\n",
        "\n",
        "    def call(self, inputs):\n",
        "        x = self.bihomogeneous(inputs)\n",
        "        x = self.layer1(x)\n",
        "        x = self.layer2(x)\n",
        "        x = self.layer3(x)\n",
        "        x = tf.math.log(x)\n",
        "        return x"
      ]
    },
    {
      "cell_type": "code",
      "execution_count": null,
      "metadata": {
        "id": "cXSQuJgCtGDI"
      },
      "outputs": [],
      "source": [
        "model = Kahler_potential()"
      ]
    },
    {
      "cell_type": "markdown",
      "metadata": {
        "id": "vooMAXq2tGDJ"
      },
      "source": [
        "Define the Kähler metric $g_{i \\bar j} = \\partial_i\\bar\\partial_{\\bar j} K$ and the volume form $d\\mu_g = \\det g_{i \\bar j}$:"
      ]
    },
    {
      "cell_type": "code",
      "execution_count": null,
      "metadata": {
        "id": "ZKNPTfxPtGDJ"
      },
      "outputs": [],
      "source": [
        "@tf.function\n",
        "def volume_form(points, Omega_Omegabar, mass, restriction):\n",
        "\n",
        "    kahler_metric = mlg.complex_math.complex_hessian(tf.math.real(model(points)), points)\n",
        "    kahler_metric = tf.matmul(restriction, tf.matmul(kahler_metric, restriction, adjoint_b=True))\n",
        "    det_g = tf.math.real(tf.linalg.det(kahler_metric))\n",
        "\n",
        "    # Calculate the normalization constant to make the overall integration as 1\n",
        "    # It is a batchwise calculation but we expect it to converge to a constant eventually\n",
        "    # Consequently, if one computes the average of volume_form / Omega_Omegabar,\n",
        "    # they will get strictly 1. (The actual result would be Vol_Omega, which is set\n",
        "    # to be 1 here implicitly.)\n",
        "    weights = mass / tf.reduce_sum(mass)\n",
        "    factor = tf.reduce_sum(weights * det_g / Omega_Omegabar)\n",
        "    volume_form = det_g / factor\n",
        "\n",
        "    return volmue_form"
      ]
    },
    {
      "cell_type": "markdown",
      "metadata": {
        "id": "GSvy2QCmtGDJ"
      },
      "source": [
        "### Train the model with Adam and L-BFGS\n",
        "#### Adam\n",
        "Setup the keras optmizer as `Adam` and the loss function as one of weighted loss in the `mlg.loss` module. Some available functions are `weighted_MAPE`, `weighted_MSE`, `max_error` and `MAPE_plus_max_error`. They are weighted with the mass formula since the points on the hypersurface are distributed according to the Fubini-Study measure while the measure used in the integration is determined by the volume form $\\small \\Omega \\wedge \\bar\\Omega$."
      ]
    },
    {
      "cell_type": "code",
      "execution_count": null,
      "metadata": {
        "id": "6jeIUXSTtGDK"
      },
      "outputs": [],
      "source": [
        "optimizer = keras.optimizers.Adam()\n",
        "loss_func = mlg.loss.weighted_MAPE"
      ]
    },
    {
      "cell_type": "markdown",
      "metadata": {
        "id": "V8R-_rO7tGDK"
      },
      "source": [
        "Loop over the batches and train the network:"
      ]
    },
    {
      "cell_type": "code",
      "execution_count": null,
      "metadata": {
        "scrolled": true,
        "id": "WNWbQo1LtGDK",
        "outputId": "0a6b8726-c99d-41dc-9a56-6bafc1e9d172",
        "colab": {
          "base_uri": "https://localhost:8080/"
        }
      },
      "outputs": [
        {
          "output_type": "stream",
          "name": "stdout",
          "text": [
            "epoch 10: loss = 0.04700\n",
            "epoch 20: loss = 0.01388\n",
            "epoch 30: loss = 0.01273\n",
            "epoch 40: loss = 0.01305\n",
            "epoch 50: loss = 0.01215\n",
            "epoch 60: loss = 0.01275\n",
            "epoch 70: loss = 0.01238\n",
            "epoch 80: loss = 0.01209\n",
            "epoch 90: loss = 0.01222\n",
            "epoch 100: loss = 0.01200\n",
            "epoch 110: loss = 0.01204\n",
            "epoch 120: loss = 0.01120\n",
            "epoch 130: loss = 0.01224\n",
            "epoch 140: loss = 0.01139\n",
            "epoch 150: loss = 0.01236\n",
            "epoch 160: loss = 0.01149\n",
            "epoch 170: loss = 0.01203\n",
            "epoch 180: loss = 0.01190\n",
            "epoch 190: loss = 0.01039\n",
            "epoch 200: loss = 0.01261\n"
          ]
        }
      ],
      "source": [
        "max_epochs = 200\n",
        "epoch = 0\n",
        "while epoch < max_epochs:\n",
        "    epoch = epoch + 1\n",
        "    for step, (points, Omega_Omegabar, mass, restriction) in enumerate(train_set):\n",
        "        with tf.GradientTape() as tape:\n",
        "            det_omega = volume_form(points, Omega_Omegabar, mass, restriction)\n",
        "            loss = loss_func(Omega_Omegabar, det_omega, mass)\n",
        "            grads = tape.gradient(loss, model.trainable_weights)\n",
        "        optimizer.apply_gradients(zip(grads, model.trainable_weights))\n",
        "    if epoch % 10 == 0:\n",
        "        print(\"epoch %d: loss = %.5f\" % (epoch, loss))"
      ]
    },
    {
      "cell_type": "markdown",
      "metadata": {
        "id": "uAVB6kgztGDL"
      },
      "source": [
        "Let's check the loss of the test dataset. First define a function to calculate the total loss over the whole dataset:"
      ]
    },
    {
      "cell_type": "code",
      "execution_count": null,
      "metadata": {
        "id": "SqGWnTq6tGDL"
      },
      "outputs": [],
      "source": [
        "def cal_total_loss(dataset, loss_function):\n",
        "    total_loss = tf.constant(0, dtype=tf.float32)\n",
        "    total_mass = tf.constant(0, dtype=tf.float32)\n",
        "\n",
        "    for step, (points, Omega_Omegabar, mass, restriction) in enumerate(dataset):\n",
        "        det_omega = volume_form(points, Omega_Omegabar, mass, restriction)\n",
        "        mass_sum = tf.reduce_sum(mass)\n",
        "        total_loss += loss_function(Omega_Omegabar, det_omega, mass) * mass_sum\n",
        "        total_mass += mass_sum\n",
        "    total_loss = total_loss / total_mass\n",
        "\n",
        "    return total_loss.numpy()"
      ]
    },
    {
      "cell_type": "markdown",
      "metadata": {
        "id": "iDGmTMIytGDL"
      },
      "source": [
        "Check the results of MAPE and MSE:"
      ]
    },
    {
      "cell_type": "code",
      "execution_count": null,
      "metadata": {
        "id": "N7gZJSOdtGDL",
        "outputId": "2bbba998-8388-4ac7-be8b-ede3299e4642",
        "colab": {
          "base_uri": "https://localhost:8080/"
        }
      },
      "outputs": [
        {
          "output_type": "stream",
          "name": "stdout",
          "text": [
            "sigma_test = 0.01207\n",
            "E_test = 0.00027\n"
          ]
        }
      ],
      "source": [
        "sigma_test = cal_total_loss(test_set, mlg.loss.weighted_MAPE)\n",
        "E_test = cal_total_loss(test_set, mlg.loss.weighted_MSE)\n",
        "print(\"sigma_test = %.5f\" % sigma_test)\n",
        "print(\"E_test = %.5f\" % E_test)"
      ]
    },
    {
      "cell_type": "markdown",
      "metadata": {
        "id": "omQZi7TytGDL"
      },
      "source": [
        "You can also check the error of the Monte Carlo integration, estimated by:\n",
        "\n",
        "$$\\delta \\sigma = \\frac{1}{\\sqrt{N_p}} {\\left( \\int_X (|\\eta - 1_X| - \\sigma)^2 d\\mu_{\\Omega}\\right)}^{1/2},$$\n",
        "\n",
        "where $N_p$ is the number of points on the hypersurface and $\\sigma$ is the `weighted_MAPE` loss, and\n",
        "\n",
        "$$\\eta = \\frac{\\det \\omega}{\\small \\Omega \\wedge \\bar \\Omega}$$"
      ]
    },
    {
      "cell_type": "code",
      "execution_count": null,
      "metadata": {
        "id": "ZY2fn1iFtGDM",
        "outputId": "7c1f7b56-325c-434e-f46d-907a89e3857a",
        "colab": {
          "base_uri": "https://localhost:8080/"
        }
      },
      "outputs": [
        {
          "output_type": "stream",
          "name": "stdout",
          "text": [
            "delta_simga = 0.00012\n"
          ]
        }
      ],
      "source": [
        "def delta_sigma_square_test(y_true, y_pred, mass):\n",
        "    weights = mass / tf.reduce_sum(mass)\n",
        "    return tf.reduce_sum((tf.abs(y_true - y_pred) / y_true - sigma_test)**2 * weights)\n",
        "\n",
        "delta_sigma = cal_total_loss(test_set, delta_sigma_square_test)\n",
        "print(\"delta_simga = %.5f\" % delta_sigma)"
      ]
    },
    {
      "cell_type": "markdown",
      "metadata": {
        "id": "HQxGKzH4tGDM"
      },
      "source": [
        "#### Save and Load\n",
        "The trained network can be saved by:"
      ]
    },
    {
      "cell_type": "code",
      "execution_count": null,
      "metadata": {
        "id": "IkrLO0eutGDM"
      },
      "outputs": [],
      "source": [
        "os.makedirs('trained_model', exist_ok=True)\n",
        "model.save('trained_model/70_100_1.keras')"
      ]
    },
    {
      "cell_type": "markdown",
      "metadata": {
        "id": "HHK4cU7VtGDN"
      },
      "source": [
        "And loaded by the `load_model` method:"
      ]
    },
    {
      "cell_type": "code",
      "execution_count": null,
      "metadata": {
        "id": "CdjCeKlmtGDO"
      },
      "outputs": [],
      "source": [
        "model = keras.saving.load_model('trained_model/70_100_1.keras')"
      ]
    },
    {
      "cell_type": "markdown",
      "metadata": {
        "id": "dlWwMrv7tGDP"
      },
      "source": [
        "#### L-BFGS\n",
        "As elaborated in our paper, when the network getting more complicated, L-BFGS converges faster than Adam near the minima. It is recommanded to use it after pretraining with Adam. However, L-BFGS is not in the standard Tensorflow library so the training process is slightly different: (Only ~20 iterations are shown here. In a real case you may want to set the `max_epochs` to ~1000)"
      ]
    },
    {
      "cell_type": "code",
      "execution_count": null,
      "metadata": {
        "id": "3FUgvhWvtGDP",
        "outputId": "bf02ba35-d8c3-4ab1-d2d1-79e0c2345187",
        "colab": {
          "base_uri": "https://localhost:8080/"
        }
      },
      "outputs": [
        {
          "output_type": "stream",
          "name": "stdout",
          "text": [
            "Iter: 1 loss: 0.0120117264\n",
            "Iter: 2 loss: 0.521354854\n",
            "Iter: 3 loss: 0.0819888934\n",
            "Iter: 4 loss: 0.0208096653\n",
            "Iter: 5 loss: 0.0115710068\n",
            "Iter: 6 loss: 0.0107686864\n",
            "Iter: 7 loss: 0.016376676\n",
            "Iter: 8 loss: 0.0107517727\n",
            "Iter: 9 loss: 0.0106189838\n",
            "Iter: 10 loss: 0.0111169312\n",
            "Iter: 11 loss: 0.0105820298\n",
            "Iter: 12 loss: 0.010477283\n",
            "Iter: 13 loss: 0.0104977814\n",
            "Iter: 14 loss: 0.0103970384\n",
            "Iter: 15 loss: 0.010341051\n",
            "Iter: 16 loss: 0.0110788839\n",
            "Iter: 17 loss: 0.0103399819\n"
          ]
        }
      ],
      "source": [
        "# The displayed max_epochs will be three to four times this value since iter + 1 everytime the function\n",
        "# is invoked, which also happens during the evaluation of the function itself and its gradient\n",
        "max_epochs = 5\n",
        "\n",
        "# Setup the function to be optimized by L-BFGS\n",
        "\n",
        "train_func = mlg.lbfgs.function_factory(model, loss_func, train_set)\n",
        "\n",
        "# Setup the inital values and train\n",
        "init_params = tf.dynamic_stitch(train_func.idx, model.trainable_variables)\n",
        "results = tfp.optimizer.lbfgs_minimize(value_and_gradients_function=train_func,\n",
        "                                        initial_position=init_params,\n",
        "                                        max_iterations=max_epochs)\n",
        "# Update the model after the last loop\n",
        "train_func.assign_new_model_parameters(results.position)"
      ]
    },
    {
      "cell_type": "markdown",
      "metadata": {
        "id": "VQ3BrFxltGDP"
      },
      "source": [
        "Note that the definition of the volume form is already in the `mlg.lbfgs` module. Also note that the standard L-BFGS does not support multi-batch training. You can still batch the dataset in case the GPU is out of memory, but the parameters are only updated after a whole epoch."
      ]
    },
    {
      "cell_type": "markdown",
      "metadata": {
        "id": "P_sNfX12tGDQ"
      },
      "source": [
        "You can also check the test dataset:"
      ]
    },
    {
      "cell_type": "code",
      "execution_count": null,
      "metadata": {
        "id": "pjRWkGZ4tGDQ",
        "outputId": "273e4c93-53d9-4783-84f0-3e940aab0bbd",
        "colab": {
          "base_uri": "https://localhost:8080/"
        }
      },
      "outputs": [
        {
          "output_type": "stream",
          "name": "stdout",
          "text": [
            "sigma_test = 0.01207\n",
            "E_test = 0.00027\n"
          ]
        }
      ],
      "source": [
        "sigma_test = cal_total_loss(test_set, mlg.loss.weighted_MAPE)\n",
        "E_test = cal_total_loss(test_set, mlg.loss.weighted_MSE)\n",
        "print(\"sigma_test = %.5f\" % sigma_test)\n",
        "print(\"E_test = %.5f\" % E_test)"
      ]
    },
    {
      "cell_type": "markdown",
      "metadata": {
        "id": "Xf6Dy8NvtGDQ"
      },
      "source": [
        "#### Print out the metrics\n",
        "After all of the trainings are done, the final results for the metrics can be printed out explicitly, using the previously generated data points and restriction matrices:"
      ]
    },
    {
      "cell_type": "code",
      "execution_count": null,
      "metadata": {
        "id": "qt2ZZElptGDR"
      },
      "outputs": [],
      "source": [
        "@tf.function\n",
        "def get_cy_metric(points, restriction):\n",
        "\n",
        "    cy_metric = mlg.complex_math.complex_hessian(tf.math.real(model(points)), points)\n",
        "    cy_metric = tf.matmul(restriction, tf.matmul(cy_metric, restriction, adjoint_b=True))\n",
        "\n",
        "    return cy_metric"
      ]
    },
    {
      "cell_type": "code",
      "execution_count": null,
      "metadata": {
        "id": "FMOBAaCytGDR",
        "outputId": "8f40f4e8-cca9-4072-c9b5-b3e2236db0c0",
        "colab": {
          "base_uri": "https://localhost:8080/"
        }
      },
      "outputs": [
        {
          "output_type": "stream",
          "name": "stdout",
          "text": [
            "[-0.59150815+7.2931312e-02j -0.9938062 +1.1493446e-02j\n",
            "  0.67252195-1.9070959e-01j -0.12152821+2.9399461e-01j\n",
            "  1.        +2.2154981e-17j]\n",
            "[[ 2.472322  -4.78886477e-08j  0.3180696 +2.02831551e-01j\n",
            "  -0.01433054+4.51943465e-02j]\n",
            " [ 0.31806967-2.02831566e-01j  2.557338  +7.45058060e-08j\n",
            "   0.02845549-1.64638966e-01j]\n",
            " [-0.01433052-4.51943949e-02j  0.02845548+1.64638966e-01j\n",
            "   1.9045304 -1.21071935e-08j]]\n"
          ]
        }
      ],
      "source": [
        "cy_metric = get_cy_metric(points, restriction)\n",
        "print(points[5].numpy())\n",
        "print(cy_metric[5].numpy())"
      ]
    },
    {
      "cell_type": "markdown",
      "metadata": {
        "id": "KeB5YqMHtGDR"
      },
      "source": [
        "### $\\eta$ on the rational curve"
      ]
    },
    {
      "cell_type": "markdown",
      "metadata": {
        "id": "ZO-bZ-FstGDa"
      },
      "source": [
        "Now let's retrict our model to a subspace and check the local behavior of $\\eta$. With the quintic 3-fold f = 0, we can choose the embedding\n",
        "\n",
        "$$(z_0, -z_0, z_1, 0, -z_1),$$\n",
        "\n",
        "and the local coordinate system defined by $t = z_1 / z_0$. Using shperical coordinates $(\\theta, \\phi)$, it can be embedded into $\\mathbb{R}^3$ by:\n",
        "\n",
        "$$z_0 = \\sin \\theta \\cos \\phi, \\qquad z_1= \\sin \\theta \\sin \\phi + i \\cos \\phi$$\n",
        "\n",
        "So first sample the points on the rational curve:"
      ]
    },
    {
      "cell_type": "code",
      "execution_count": null,
      "metadata": {
        "id": "3FtODaYEtGDa"
      },
      "outputs": [],
      "source": [
        "theta, phi = np.linspace(0.001,np.pi+0.001, 400), np.linspace(0.001, 2*np.pi+0.001, 400)\n",
        "eps = 0.0001 + 0.0001j\n",
        "\n",
        "R = []\n",
        "points_list = []\n",
        "for j in phi:\n",
        "    for i in theta:\n",
        "        t = complex(math.sin(i)*math.sin(j), math.cos(i)) / (math.sin(i)*math.cos(j))\n",
        "        if np.absolute(t) <= 1:\n",
        "            # The Bihomogeneous layer will remove the zero entries automatically.\n",
        "            # So here we add a small number eps to avoid being removed\n",
        "            points_list.append([1+eps, -1+eps, t+eps, 0+eps, -t+eps])\n",
        "        else:\n",
        "            # Use the symmetry:\n",
        "            points_list.append([1+eps, -1+eps, 1/t+eps, 0+eps, -1/t+eps])"
      ]
    },
    {
      "cell_type": "markdown",
      "metadata": {
        "id": "1jMeM3K3tGDb"
      },
      "source": [
        "Use this set of points to generate the rational curve with norm_coordinate = z0 and max_grad_coordinate = z1:"
      ]
    },
    {
      "cell_type": "code",
      "execution_count": null,
      "metadata": {
        "id": "TDq6-gWwtGDb"
      },
      "outputs": [],
      "source": [
        "rc = mlg.hypersurface.Hypersurface(Z, f, points=points_list, norm_coordinate=0, max_grad_coordinate=0)\n",
        "rc_dataset = mlg.tf_dataset.generate_dataset(rc).batch(rc.n_points)"
      ]
    },
    {
      "cell_type": "markdown",
      "metadata": {
        "id": "6--X-YkMtGDb"
      },
      "source": [
        "Calculate $\\eta$:"
      ]
    },
    {
      "cell_type": "code",
      "execution_count": null,
      "metadata": {
        "id": "I2ypMTBmtGDb"
      },
      "outputs": [],
      "source": [
        "points, Omega_Omegabar, mass, restriction = next(iter(rc_dataset))\n",
        "det_omega = volume_form(points, Omega_Omegabar, mass, restriction)\n",
        "eta = (det_omega / Omega_Omegabar).numpy()"
      ]
    },
    {
      "cell_type": "markdown",
      "metadata": {
        "id": "Qp0EdTwLtGDc"
      },
      "source": [
        "Convert to Cartesian coordinates:"
      ]
    },
    {
      "cell_type": "code",
      "execution_count": null,
      "metadata": {
        "id": "VMECj1VotGDc"
      },
      "outputs": [],
      "source": [
        "R = eta.reshape(400, 400)\n",
        "THETA, PHI = np.meshgrid(theta, phi)\n",
        "X = R * np.sin(THETA) * np.cos(PHI)\n",
        "Y = R * np.sin(THETA) * np.sin(PHI)\n",
        "ZZ = R * np.cos(THETA)"
      ]
    },
    {
      "cell_type": "markdown",
      "metadata": {
        "id": "KpygjzVRtGDc"
      },
      "source": [
        "Plot the figure:"
      ]
    },
    {
      "cell_type": "code",
      "execution_count": null,
      "metadata": {
        "id": "A1E03PN8tGDc",
        "outputId": "e72b77a5-1b80-4e81-f394-c9ff255ea7ef",
        "colab": {
          "base_uri": "https://localhost:8080/",
          "height": 410
        }
      },
      "outputs": [
        {
          "output_type": "display_data",
          "data": {
            "text/plain": [
              "<Figure size 640x480 with 1 Axes>"
            ],
            "image/png": "[encoded data removed]"
          },
          "metadata": {}
        }
      ],
      "source": [
        "fig = plt.figure()\n",
        "ax = fig.add_subplot(1,1,1, projection='3d')\n",
        "ax.set_zlim3d(-1.0, 1.0)\n",
        "plot = ax.plot_surface(\n",
        "    X, Y, ZZ, rstride=1, cstride=1, cmap=plt.cm.YlGnBu_r,\n",
        "    linewidth=0, antialiased=False)"
      ]
    },
    {
      "cell_type": "markdown",
      "metadata": {
        "id": "PyvsITrMtGDc"
      },
      "source": [
        "$\\eta$ is expected to approach the constant function 1 as k increases."
      ]
    }
  ],
  "metadata": {
    "kernelspec": {
      "display_name": "Python 3",
      "name": "python3"
    },
    "language_info": {
      "name": "python"
    },
    "colab": {
      "provenance": [],
      "gpuType": "T4"
    },
    "accelerator": "GPU"
  },
  "nbformat": 4,
  "nbformat_minor": 0
}